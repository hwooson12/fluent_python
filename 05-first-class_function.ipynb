{
 "cells": [
  {
   "cell_type": "markdown",
   "metadata": {},
   "source": [
    "# 5. 일급 함수 Fist-class functions\n",
    "\n",
    "파이썬의 함수는 일급 객체다. 프로그래밍 언어 이론가들은 다음과 같은 작업을 수행할 수 있는 ㅡ프로그램 개체를 '일급 객체'로 정의한다.\n",
    "\n",
    "- 런타임에 생성할 수 있다.\n",
    "- 데이터 구조체의 변수나 요소에 할당할 수 있다.\n",
    "- 함수 인수로 전달할 수 있다.\n",
    "- 함수 결과로 반환할 수 있다.\n",
    "\n",
    "정수, 문자열, 딕셔너리도 파이썬의 일급객체다. 여기에 대단한 것은 없다. 그렇지만 함수가 일급 구성원이 아닌 다른 언어에서 파이썬으로 넘어온 독자들을 위해 3부에서는 함수를 객체로 처리하는 실용적인 방법과 영향ㅇ에 대해 집중적으로 살펴본다.\n",
    "\n",
    "## 5.1 함수를 객체처럼 다루기\n",
    "\n",
    "다음 예제는 파이썬 함수가 객체임을 보여준다. 여기서 우리는 함수를 생성하고, 호출하고, \\__doc\\__ 속성을 읽고, 함수 객체 자체가 fuction 클래스의 객체인지 확인한다."
   ]
  },
  {
   "cell_type": "code",
   "execution_count": 1,
   "metadata": {
    "collapsed": false
   },
   "outputs": [
    {
     "data": {
      "text/plain": [
       "1405006117752879898543142606244511569936384000000000"
      ]
     },
     "execution_count": 1,
     "metadata": {},
     "output_type": "execute_result"
    }
   ],
   "source": [
    "def factorial(n):\n",
    "    '''return n!'''\n",
    "    return 1 if n < 2 else n * factorial(n-1)\n",
    "\n",
    "factorial(42)"
   ]
  },
  {
   "cell_type": "code",
   "execution_count": 2,
   "metadata": {
    "collapsed": false
   },
   "outputs": [
    {
     "data": {
      "text/plain": [
       "'return n!'"
      ]
     },
     "execution_count": 2,
     "metadata": {},
     "output_type": "execute_result"
    }
   ],
   "source": [
    "factorial.__doc__"
   ]
  },
  {
   "cell_type": "code",
   "execution_count": 4,
   "metadata": {
    "collapsed": false
   },
   "outputs": [
    {
     "name": "stdout",
     "output_type": "stream",
     "text": [
      "<class 'function'>\n"
     ]
    }
   ],
   "source": [
    "print(type(factorial))"
   ]
  },
  {
   "cell_type": "code",
   "execution_count": 5,
   "metadata": {
    "collapsed": false
   },
   "outputs": [
    {
     "name": "stdout",
     "output_type": "stream",
     "text": [
      "Help on function factorial in module __main__:\n",
      "\n",
      "factorial(n)\n",
      "    return n!\n",
      "\n"
     ]
    }
   ],
   "source": [
    "help(factorial)"
   ]
  },
  {
   "cell_type": "code",
   "execution_count": 7,
   "metadata": {
    "collapsed": false
   },
   "outputs": [
    {
     "data": {
      "text/plain": [
       "<function __main__.factorial>"
      ]
     },
     "execution_count": 7,
     "metadata": {},
     "output_type": "execute_result"
    }
   ],
   "source": [
    "fac = factorial\n",
    "fac"
   ]
  },
  {
   "cell_type": "code",
   "execution_count": 8,
   "metadata": {
    "collapsed": false
   },
   "outputs": [
    {
     "data": {
      "text/plain": [
       "120"
      ]
     },
     "execution_count": 8,
     "metadata": {},
     "output_type": "execute_result"
    }
   ],
   "source": [
    "fac(5)"
   ]
  },
  {
   "cell_type": "code",
   "execution_count": 9,
   "metadata": {
    "collapsed": false
   },
   "outputs": [
    {
     "data": {
      "text/plain": [
       "<map at 0x104512438>"
      ]
     },
     "execution_count": 9,
     "metadata": {},
     "output_type": "execute_result"
    }
   ],
   "source": [
    "map(factorial, range(11))"
   ]
  },
  {
   "cell_type": "code",
   "execution_count": 10,
   "metadata": {
    "collapsed": false
   },
   "outputs": [
    {
     "data": {
      "text/plain": [
       "[1, 1, 2, 6, 24, 120, 720, 5040, 40320, 362880, 3628800]"
      ]
     },
     "execution_count": 10,
     "metadata": {},
     "output_type": "execute_result"
    }
   ],
   "source": [
    "list(_)"
   ]
  },
  {
   "cell_type": "markdown",
   "metadata": {},
   "source": [
    "## 5.2 고위 함수\n",
    "\n",
    "함수를 인수로 받거나, 함수를 결과로 반환하는 함수를 __고위 함수(higher-order function)__라고 한다. 대표적으로  map() 함수가 있다. 2.7절 list.sort()와 sorted() 내장함수에서 설명한 sorted() 내장 함수도 또 하나의 예다.\n",
    "\n",
    "함수형 프로그래밍 세계에서는 map(), filter(), reduce(), apply() 등의 고위 함수가 널리 알려져 있다. apply() 함수는 파이썬 2.3에서 사용 중단 안내되었으며, 더 이상 필요하지 않기 때문에 파이썬 3에서 제거되었다. 일련의 동적인 인수에 함수를 호출해야 할 때는 apply(fn, args, kwargs) 대신 fn(\\*args, \\*\\*kwargs) 형태로 작성하면 된다.\n",
    "\n",
    "map(), filter(), reduce() 고위 함수는 여전히 존재하지만, 다음 절에서 설명하듯이 대부분의 경우 더 나은 다른 방법이 있다.\n",
    "\n",
    "### 5.2.1 `map(), filter(), reduce()`의 대안\n",
    "\n",
    "맵과 필터보다 list comp.가 더 좋다고 한다."
   ]
  },
  {
   "cell_type": "code",
   "execution_count": 11,
   "metadata": {
    "collapsed": false
   },
   "outputs": [
    {
     "data": {
      "text/plain": [
       "[1, 1, 2, 6, 24, 120]"
      ]
     },
     "execution_count": 11,
     "metadata": {},
     "output_type": "execute_result"
    }
   ],
   "source": [
    "list(map(fac, range(6)))"
   ]
  },
  {
   "cell_type": "code",
   "execution_count": 12,
   "metadata": {
    "collapsed": false
   },
   "outputs": [
    {
     "data": {
      "text/plain": [
       "[1, 1, 2, 6, 24, 120]"
      ]
     },
     "execution_count": 12,
     "metadata": {},
     "output_type": "execute_result"
    }
   ],
   "source": [
    "[fac(n) for n in range(6)]"
   ]
  },
  {
   "cell_type": "code",
   "execution_count": 13,
   "metadata": {
    "collapsed": false
   },
   "outputs": [
    {
     "data": {
      "text/plain": [
       "[1, 6, 120]"
      ]
     },
     "execution_count": 13,
     "metadata": {},
     "output_type": "execute_result"
    }
   ],
   "source": [
    "list(map(factorial, filter(lambda n: n % 2, range(6))))"
   ]
  },
  {
   "cell_type": "code",
   "execution_count": 14,
   "metadata": {
    "collapsed": false
   },
   "outputs": [
    {
     "data": {
      "text/plain": [
       "[1, 6, 120]"
      ]
     },
     "execution_count": 14,
     "metadata": {},
     "output_type": "execute_result"
    }
   ],
   "source": [
    "[factorial(n) for n in range(6) if n % 2]"
   ]
  },
  {
   "cell_type": "markdown",
   "metadata": {},
   "source": [
    "맵과 필터는 제너레이터를 반환하므로 제너레이터 표현식이 이 함수들을 직접 대체한다. \n",
    "\n",
    "파이썬 2에 내장되었던 reduce() 함수는 주로 합계를 구하기 위해 사용되는데, sum()이 더 좋다.\n",
    "\n",
    "## 5.3 익명 함수\n",
    "__`lambda`__\n",
    "\n",
    "람다 본체는 순수한 표현식으로만 구성되도록 제한된다. 즉, 할당문이나 while, try 등의 파이썬 문장을 사용할 수 없다."
   ]
  },
  {
   "cell_type": "code",
   "execution_count": 15,
   "metadata": {
    "collapsed": false
   },
   "outputs": [
    {
     "data": {
      "text/plain": [
       "['banana', 'apple', 'fig', 'raspberry', 'strawberry', 'cherry']"
      ]
     },
     "execution_count": 15,
     "metadata": {},
     "output_type": "execute_result"
    }
   ],
   "source": [
    "fruits = ['strawberry', 'fig', 'apple', 'cherry', 'raspberry', 'banana']\n",
    "sorted(fruits, key=lambda word: word[::-1])"
   ]
  },
  {
   "cell_type": "markdown",
   "metadata": {},
   "source": [
    "람다 구문은 단지 편리 구문일 뿐이다. def문과 마찬가지로 람다 표현식도 하나의 함수 객체를 만든다. 즉, 파이썬에서 제공하는 여러 콜러블 객체 중 하나일 뿐이다.\n",
    "\n",
    "## 5.4 일곱 가지 맛의 콜러블 객체\n",
    "\n",
    "호출 연산자인 `()`는 사용자 정의 함수 이외의 다른 객체에도 적용할 수 있다. 호출할 수 있는 객체인지 알아보려면 `callable()` 내장 함수를 사용한다. 파이썬 데이터 모델 문서는 다음 일곱 가지 콜러블을 나열하고 있다.\n",
    "\n",
    "#### 사용자 정의 함수\n",
    "\n",
    "def 문이나 람다 표현식으로 생성한다.\n",
    "\n",
    "#### 내장 함수\n",
    "\n",
    "`len()`이나 `time.strftime()` 처럼 C 언어로 구현된 함수(CPython의 경우)\n",
    "\n",
    "#### 내장 메서드\n",
    "\n",
    "`dict.get()`처럼 C 언어로 구현된 메서드\n",
    "\n",
    "#### 메서드\n",
    "클래스 본체에 정의된 함수\n",
    "\n",
    "#### 클래스\n",
    "\n",
    "호출될 때 클래스는 자신의 \\__new\\__() 메서드를 실행해서 객체를 생성하고, \\__init\\__()으로 초기화한 후, 최종적으로 호출자에 객체를 반환한다. 파이썬에는 new 연산자가 없으므로 클래스를 호출하는 것은 함수를 호출하는 것과 동일하다(일반적으로 클래스를 호출하면 해당 클래스의 객체가 생성되지만, \\__new\\__() 메서드를 오버라이딩하면 다르게 작동할ㅈ 수도 있다.\n",
    "\n",
    "#### 제너레이터 함수\n",
    "yield 키워드를 사용하는 함수나 메서드, 이 함수가 호출되면 제너레이터 객체를 반환한다. 후에 자세히 다룬다.\n",
    "\n",
    "## 5.5 사용자 정의 콜러블형\n",
    "파이썬 함수가 실제 객체일 뿐만 아니라, 모든 파이썬 객체가 함수처럼 동작하게 만들 수 있다. 단지 \\__call\\__() 인스턴스 메서드를 구현하면 된다."
   ]
  },
  {
   "cell_type": "code",
   "execution_count": 18,
   "metadata": {
    "collapsed": true
   },
   "outputs": [],
   "source": [
    "import random\n",
    "\n",
    "class BingoCage:\n",
    "    \n",
    "    def __init__(self, items):\n",
    "        self._items = list(items)\n",
    "        random.shuffle(self._items)\n",
    "        \n",
    "    def pick(self):\n",
    "        try:\n",
    "            return self._items.pop()\n",
    "        except IndexError:\n",
    "            raise LookupError('pick from empty BingoCage')\n",
    "            \n",
    "    def __call__(self):\n",
    "        return self.pick()"
   ]
  },
  {
   "cell_type": "code",
   "execution_count": 19,
   "metadata": {
    "collapsed": false
   },
   "outputs": [
    {
     "data": {
      "text/plain": [
       "0"
      ]
     },
     "execution_count": 19,
     "metadata": {},
     "output_type": "execute_result"
    }
   ],
   "source": [
    "bingo = BingoCage(range(3))\n",
    "bingo.pick()"
   ]
  },
  {
   "cell_type": "code",
   "execution_count": 20,
   "metadata": {
    "collapsed": false
   },
   "outputs": [
    {
     "data": {
      "text/plain": [
       "1"
      ]
     },
     "execution_count": 20,
     "metadata": {},
     "output_type": "execute_result"
    }
   ],
   "source": [
    "bingo()"
   ]
  },
  {
   "cell_type": "code",
   "execution_count": 21,
   "metadata": {
    "collapsed": false
   },
   "outputs": [
    {
     "data": {
      "text/plain": [
       "True"
      ]
     },
     "execution_count": 21,
     "metadata": {},
     "output_type": "execute_result"
    }
   ],
   "source": [
    "callable(bingo)"
   ]
  },
  {
   "cell_type": "markdown",
   "metadata": {},
   "source": [
    "## 5.6 함수 인트로스펙션 Function introspection\n",
    "\n",
    "함수 객체는 \\__doc\\__ 이외에도 많은 속성을 가지고 있다. dir() 함수가 factorial()함수에 대해 공개하는 다음 내용을 살펴보자."
   ]
  },
  {
   "cell_type": "code",
   "execution_count": 22,
   "metadata": {
    "collapsed": false
   },
   "outputs": [
    {
     "data": {
      "text/plain": [
       "['__annotations__',\n",
       " '__call__',\n",
       " '__class__',\n",
       " '__closure__',\n",
       " '__code__',\n",
       " '__defaults__',\n",
       " '__delattr__',\n",
       " '__dict__',\n",
       " '__dir__',\n",
       " '__doc__',\n",
       " '__eq__',\n",
       " '__format__',\n",
       " '__ge__',\n",
       " '__get__',\n",
       " '__getattribute__',\n",
       " '__globals__',\n",
       " '__gt__',\n",
       " '__hash__',\n",
       " '__init__',\n",
       " '__kwdefaults__',\n",
       " '__le__',\n",
       " '__lt__',\n",
       " '__module__',\n",
       " '__name__',\n",
       " '__ne__',\n",
       " '__new__',\n",
       " '__qualname__',\n",
       " '__reduce__',\n",
       " '__reduce_ex__',\n",
       " '__repr__',\n",
       " '__setattr__',\n",
       " '__sizeof__',\n",
       " '__str__',\n",
       " '__subclasshook__']"
      ]
     },
     "execution_count": 22,
     "metadata": {},
     "output_type": "execute_result"
    }
   ],
   "source": [
    "dir(factorial)"
   ]
  },
  {
   "cell_type": "code",
   "execution_count": 23,
   "metadata": {
    "collapsed": false
   },
   "outputs": [
    {
     "data": {
      "text/plain": [
       "['__annotations__',\n",
       " '__call__',\n",
       " '__closure__',\n",
       " '__code__',\n",
       " '__defaults__',\n",
       " '__get__',\n",
       " '__globals__',\n",
       " '__kwdefaults__',\n",
       " '__name__',\n",
       " '__qualname__']"
      ]
     },
     "execution_count": 23,
     "metadata": {},
     "output_type": "execute_result"
    }
   ],
   "source": [
    "class C: pass\n",
    "obj = C()\n",
    "def func(): pass\n",
    "sorted(set(dir(func)) - set(dir(obj)))"
   ]
  },
  {
   "cell_type": "markdown",
   "metadata": {},
   "source": [
    "## 5.7 위치 매개변수에서 키워드 전용 매개변수까지\n",
    "\n",
    "## 5.8 매개변수에 대한 정보 읽기\n",
    "\n",
    "## 5.9 함수 애너테이션\n",
    "\n",
    "## 5.10 함수형 프로그래밍을 위한 패키지\n",
    "\n",
    "### 5.10.1 operator 모듈\n",
    "\n",
    "함수형 프로그래밍을 할 때 산술 연산자를 함수로 사용하는 것이 편리할 때가 종종 있다. 예를 들어 팩토리얼을 계산하기 위해 재귀적으로 함수를 호출하는 대신 숫자 시퀀스를 곱하는 경우를 생각해보자. 합계를 구할 때는 sum()이라는 함수가 있지만, 곱셈에 대해서는 이에 해당하는 함수가 없다."
   ]
  },
  {
   "cell_type": "code",
   "execution_count": 24,
   "metadata": {
    "collapsed": false
   },
   "outputs": [
    {
     "data": {
      "text/plain": [
       "3628800"
      ]
     },
     "execution_count": 24,
     "metadata": {},
     "output_type": "execute_result"
    }
   ],
   "source": [
    "from functools import reduce\n",
    "\n",
    "def fact(n):\n",
    "    return reduce(lambda a, b: a*b, range(1, n+1))\n",
    "fact(10)"
   ]
  },
  {
   "cell_type": "code",
   "execution_count": 25,
   "metadata": {
    "collapsed": false
   },
   "outputs": [
    {
     "data": {
      "text/plain": [
       "3628800"
      ]
     },
     "execution_count": 25,
     "metadata": {},
     "output_type": "execute_result"
    }
   ],
   "source": [
    "from operator import mul\n",
    "\n",
    "def fact(n):\n",
    "    return reduce(mul, range(1, n+1))\n",
    "fact(10)"
   ]
  },
  {
   "cell_type": "markdown",
   "metadata": {},
   "source": [
    "### 5.10.2 `functools.partial()`로 인수 고정하기"
   ]
  },
  {
   "cell_type": "code",
   "execution_count": 27,
   "metadata": {
    "collapsed": false
   },
   "outputs": [
    {
     "data": {
      "text/plain": [
       "[0, 3, 6, 9, 12, 15, 18, 21, 24, 27]"
      ]
     },
     "execution_count": 27,
     "metadata": {},
     "output_type": "execute_result"
    }
   ],
   "source": [
    "from operator import mul\n",
    "from functools import partial\n",
    "triple = partial(mul, 3)\n",
    "triple(7)\n",
    "list(map(triple, range(10)))"
   ]
  },
  {
   "cell_type": "markdown",
   "metadata": {},
   "source": [
    "## 5.11 요약\n",
    "\n",
    "이 장의 목적은 파이썬 함수의 일급 특성에 대해 탐구하는 것이었다. 기본 개념은 함수를 변수에 할당하고, 다른 함수에 전달하고, 데이터 구조체에 저장하며, 함수 속성에 접근해서 프레임워크나 도구가 이 속성 정보를 사용할 수 있게 해주는 것이다. 지능형 리스트 및 제너레이터 표현식과 sum(), all(), any() 등 내장된 리덕션 함수의 등장으로 map(), filter(), reduce() 함수가 예전보다 사용 빈도가 떨어지기는 했지만, 함수형 프로그래밍의 기본적인 특징인 고위 함수를 파이썬에서 쉽게 볼 수 있다. sorted(), min(), max() 내장 함수와 functools.partial()이 자주 사용되는 고위 함수의 예다.\n",
    "\n",
    "파이썬에서 콜러블은 람다로 생성한 간단한 함수부터  \\__call\\__() 메서드를 구현하는 클래스 객체까지, 7가지 형태로 구현할 수 있다. 모든 콜러블은 callable() 내장 함수가 탐지할 수 있다. 모든 콜러블은 파이썬3에서 새로 소개된 키워드 전용 매개변수와 애너테이션 등 매개변수를 선언하는 풍부한 구문을 공통적으로 지원한다.\n",
    "\n",
    "파이썬 함수와 애너테이션에는 inspect 모듈을 이용해서 쉽게 읽을 수 있는 속성이 풍부하게 들어 있다. inspect 모듈에 포함된 Signature.bind() 메서드는 인수를 매개변수에 바인딩하기 위한 파이썬이 사용하는 규칙을 적용한다.\n",
    "\n",
    "마지막으로 operator 모듈에서 제공하는 함수 몇 개와 functools.partial() 함수에 대해 설명했다. 이 함수들은 기능이 떨어지는 람다 구문을 사용할 필요 없이 쉽게 함수형 프로그래밍을 할 수 있게 해준다."
   ]
  },
  {
   "cell_type": "code",
   "execution_count": null,
   "metadata": {
    "collapsed": true
   },
   "outputs": [],
   "source": []
  }
 ],
 "metadata": {
  "kernelspec": {
   "display_name": "Python 3",
   "language": "python",
   "name": "python3"
  },
  "language_info": {
   "codemirror_mode": {
    "name": "ipython",
    "version": 3
   },
   "file_extension": ".py",
   "mimetype": "text/x-python",
   "name": "python",
   "nbconvert_exporter": "python",
   "pygments_lexer": "ipython3",
   "version": "3.5.1"
  }
 },
 "nbformat": 4,
 "nbformat_minor": 1
}
