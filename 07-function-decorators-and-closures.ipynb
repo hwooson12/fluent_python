{
 "cells": [
  {
   "cell_type": "markdown",
   "metadata": {
    "slideshow": {
     "slide_type": "-"
    }
   },
   "source": [
    "# 7. 함수 데커레이터와 클로저\n",
    "---\n",
    "\n",
    "함수 데커레이터는 소스 코드에 있는 함수를 '표시'해서 함수의 작동을 개선할 수 있게 해준다. 강력한 기능이지만, 데커레이터를 자유자재로 사용하려먼 먼저 클로저를 알아야 한다.\n",
    "\n",
    "- 데커레이터를 구현하기 위해 클로저를 이해해야 한다.\n",
    "- 그렇기 위해서는 파이썬 3.0에 추가된 nonlocal이 필요하다.\n",
    "- 다만 클래스 중심의 엄격한 객체지향 방식을 고수한다면 이 기능을 사용하지 않고도 파이썬 프로그래머로서 아무런 지장없다.\n",
    "- 콜백을 이용한 효율적인 비동기 프로그래밍과 필요에 따라 함수형 스타일로 코딩하는데에도 필수적이다.\n",
    "- 이 장에서는 다음과 같은 내용을 살펴본다.\n",
    "\n",
    "  - 파이썬이 데커레이터 구문을 평가하는 방식\n",
    "  - 변수가 지역 변수인지 파이썬이 판단하는 방식\n",
    "  - 클로저의 존재 이유와 작동 방식\n",
    "  - nonlocal로 해결할 수 있는 문제\n",
    "  \n",
    "- 이런 기반으로 다음과 같은 주제도 심도있게 다룰 수 있다.\n",
    "\n",
    "  - 잘 작동하는 데커레이터 구현하기\n",
    "  - 표준 라이브러리에서 제공하는 재미있는 데커레이터들\n",
    "  - 매개변수화된 데커레이터 구현하기\n",
    "  \n",
    "## 7.1 데커레이터 기본 지식\n",
    "\n",
    "- 데커레이터는 다른 함수를 인수로 받는 callable이다.\n",
    "- 예를 들어\n",
    "\n",
    "----\n",
    "```\n",
    "@decorate\n",
    "def target():\n",
    "    print('running target()')\n",
    "```\n",
    "\n",
    "---\n",
    "\n",
    "위 코드는 다음 코드와 동일하게 작동한다.\n",
    "\n",
    "---\n",
    "\n",
    "```\n",
    "def target():\n",
    "    print('running target()')\n",
    "    \n",
    "target = decorate(target)\n",
    "```\n",
    "\n",
    "---\n",
    "\n",
    "두 코드의 실행 결과는 원래 함수인 `target()`함수를 가리키는 것이 아니라 `decorate(target)`이 반환한 함수를 가리키게 된다."
   ]
  },
  {
   "cell_type": "code",
   "execution_count": null,
   "metadata": {
    "collapsed": false
   },
   "outputs": [],
   "source": [
    "def deco(func):\n",
    "    def inner():\n",
    "        print('running inner()')\n",
    "    return inner\n",
    "\n",
    "@deco\n",
    "def target():\n",
    "    print('running target()')\n",
    "    \n",
    "target()"
   ]
  },
  {
   "cell_type": "code",
   "execution_count": null,
   "metadata": {
    "collapsed": false
   },
   "outputs": [],
   "source": [
    "target"
   ]
  },
  {
   "cell_type": "markdown",
   "metadata": {},
   "source": [
    "엄밀히 말해서 데커레이터는 synactic sugar일 뿐이지만, 런타임에 프로그램 행위를 변경하는 메타프로그래밍의 경우 상당히 편리하다.\n",
    "\n",
    "## 7.2 파이썬이 데커레이터를 실행하는 시점\n",
    "\n",
    "파이썬이 모듈을 로딩하는 시점, 즉 import 할 때 실행 된다. "
   ]
  },
  {
   "cell_type": "code",
   "execution_count": 4,
   "metadata": {
    "collapsed": false
   },
   "outputs": [
    {
     "name": "stdout",
     "output_type": "stream",
     "text": [
      "running register(<function f1 at 0x1045a9f28>)\n",
      "running register(<function f2 at 0x1045a9ea0>)\n",
      "running main()\n",
      "registry -> [<function f1 at 0x1045a9f28>, <function f2 at 0x1045a9ea0>]\n",
      "running f1()\n",
      "running f2()\n",
      "running f3()\n"
     ]
    }
   ],
   "source": [
    "registry = []\n",
    "\n",
    "def register(func):\n",
    "    print('running register({})'.format(func))\n",
    "    registry.append(func)\n",
    "    return func\n",
    "\n",
    "@register\n",
    "def f1():\n",
    "    print('running f1()')\n",
    "    \n",
    "@register\n",
    "def f2():\n",
    "    print('running f2()')\n",
    "    \n",
    "def f3():\n",
    "    print('running f3()')\n",
    "    \n",
    "def main():\n",
    "    print('running main()')\n",
    "    print('registry ->', registry)\n",
    "    f1()\n",
    "    f2()\n",
    "    f3()\n",
    "    \n",
    "if __name__ == '__main__':\n",
    "    main()"
   ]
  },
  {
   "cell_type": "markdown",
   "metadata": {},
   "source": [
    "위의 모듈을 임포트하면 e.g.) `import registration` 데코레이트된 함수 두 개는 바로 실행된다.\n",
    "\n",
    "- 데커레이터 함수가 데커레이트되는 함수와 같은 모듈에 정의되어 있다. 일반적으로 실제 코드에서는 데커레이터를 정의하는 모듈과 데커레이터를 적용하는 모듈을 분리해서 구현한다.\n",
    "- `register()` 데커레이터가 인수로 전달된 함수와 동일한 함수를 반환한다. 실제 코드에서 대부분의 데커레이터는 내부 함수를 정의해서 반환한다.\n",
    "\n",
    "예제에서의 `register()` 데커레이터가 데커레이트된 함수를 그대로 반환하지만, 이 기법이 쓸모 없는 것은 아니다. django에서도 많이 사용된다. 이건 장고 써보면서 알아보시길 ㅋㅋㅋ\n",
    "\n",
    "## 7.3 데커레이터로 개선한 전략 패턴"
   ]
  },
  {
   "cell_type": "code",
   "execution_count": 5,
   "metadata": {
    "collapsed": true
   },
   "outputs": [],
   "source": [
    "promos = []\n",
    "\n",
    "def promotion(promo_func):\n",
    "    promos.append(promo_func)\n",
    "    return promo_func\n",
    "\n",
    "@promotion\n",
    "def fidelity(order):\n",
    "    '''충성도 포인트가 1000점 이상인 고객에게 전체 5% 할인 적용'''\n",
    "    return order.total() * .05 if order.customer.fidelity >= 1000 else 0\n",
    "\n",
    "'''\n",
    "그 외에 여러 프로모션 함수를 데커레이트한다.\n",
    "'''\n",
    "\n",
    "def best_promo(order):\n",
    "    return max(promo(order) for promo in promos)"
   ]
  },
  {
   "cell_type": "markdown",
   "metadata": {},
   "source": [
    "## 7.4 변수 범위 규칙\n",
    "\n",
    "함수 매개변수로 정의된 지역 변수와 함수 내부에 정의되지 않은 변수를 테스트해보자"
   ]
  },
  {
   "cell_type": "code",
   "execution_count": 6,
   "metadata": {
    "collapsed": false
   },
   "outputs": [
    {
     "name": "stdout",
     "output_type": "stream",
     "text": [
      "3\n"
     ]
    },
    {
     "ename": "NameError",
     "evalue": "name 'b' is not defined",
     "output_type": "error",
     "traceback": [
      "\u001b[0;31m---------------------------------------------------------------------------\u001b[0m",
      "\u001b[0;31mNameError\u001b[0m                                 Traceback (most recent call last)",
      "\u001b[0;32m<ipython-input-6-18c126260d04>\u001b[0m in \u001b[0;36m<module>\u001b[0;34m()\u001b[0m\n\u001b[1;32m      3\u001b[0m     \u001b[0mprint\u001b[0m\u001b[0;34m(\u001b[0m\u001b[0mb\u001b[0m\u001b[0;34m)\u001b[0m\u001b[0;34m\u001b[0m\u001b[0m\n\u001b[1;32m      4\u001b[0m \u001b[0;34m\u001b[0m\u001b[0m\n\u001b[0;32m----> 5\u001b[0;31m \u001b[0mf1\u001b[0m\u001b[0;34m(\u001b[0m\u001b[0;36m3\u001b[0m\u001b[0;34m)\u001b[0m\u001b[0;34m\u001b[0m\u001b[0m\n\u001b[0m",
      "\u001b[0;32m<ipython-input-6-18c126260d04>\u001b[0m in \u001b[0;36mf1\u001b[0;34m(a)\u001b[0m\n\u001b[1;32m      1\u001b[0m \u001b[0;32mdef\u001b[0m \u001b[0mf1\u001b[0m\u001b[0;34m(\u001b[0m\u001b[0ma\u001b[0m\u001b[0;34m)\u001b[0m\u001b[0;34m:\u001b[0m\u001b[0;34m\u001b[0m\u001b[0m\n\u001b[1;32m      2\u001b[0m     \u001b[0mprint\u001b[0m\u001b[0;34m(\u001b[0m\u001b[0ma\u001b[0m\u001b[0;34m)\u001b[0m\u001b[0;34m\u001b[0m\u001b[0m\n\u001b[0;32m----> 3\u001b[0;31m     \u001b[0mprint\u001b[0m\u001b[0;34m(\u001b[0m\u001b[0mb\u001b[0m\u001b[0;34m)\u001b[0m\u001b[0;34m\u001b[0m\u001b[0m\n\u001b[0m\u001b[1;32m      4\u001b[0m \u001b[0;34m\u001b[0m\u001b[0m\n\u001b[1;32m      5\u001b[0m \u001b[0mf1\u001b[0m\u001b[0;34m(\u001b[0m\u001b[0;36m3\u001b[0m\u001b[0;34m)\u001b[0m\u001b[0;34m\u001b[0m\u001b[0m\n",
      "\u001b[0;31mNameError\u001b[0m: name 'b' is not defined"
     ]
    }
   ],
   "source": [
    "def f1(a):\n",
    "    print(a)\n",
    "    print(b)\n",
    "    \n",
    "f1(3)"
   ]
  },
  {
   "cell_type": "code",
   "execution_count": 7,
   "metadata": {
    "collapsed": false
   },
   "outputs": [
    {
     "name": "stdout",
     "output_type": "stream",
     "text": [
      "3\n",
      "6\n"
     ]
    }
   ],
   "source": [
    "b = 6\n",
    "f1(3)"
   ]
  },
  {
   "cell_type": "code",
   "execution_count": 8,
   "metadata": {
    "collapsed": false
   },
   "outputs": [
    {
     "name": "stdout",
     "output_type": "stream",
     "text": [
      "3\n"
     ]
    },
    {
     "ename": "UnboundLocalError",
     "evalue": "local variable 'b' referenced before assignment",
     "output_type": "error",
     "traceback": [
      "\u001b[0;31m---------------------------------------------------------------------------\u001b[0m",
      "\u001b[0;31mUnboundLocalError\u001b[0m                         Traceback (most recent call last)",
      "\u001b[0;32m<ipython-input-8-2d14ba40b514>\u001b[0m in \u001b[0;36m<module>\u001b[0;34m()\u001b[0m\n\u001b[1;32m      5\u001b[0m     \u001b[0mb\u001b[0m \u001b[0;34m=\u001b[0m \u001b[0;36m9\u001b[0m\u001b[0;34m\u001b[0m\u001b[0m\n\u001b[1;32m      6\u001b[0m \u001b[0;34m\u001b[0m\u001b[0m\n\u001b[0;32m----> 7\u001b[0;31m \u001b[0mf2\u001b[0m\u001b[0;34m(\u001b[0m\u001b[0;36m3\u001b[0m\u001b[0;34m)\u001b[0m\u001b[0;34m\u001b[0m\u001b[0m\n\u001b[0m",
      "\u001b[0;32m<ipython-input-8-2d14ba40b514>\u001b[0m in \u001b[0;36mf2\u001b[0;34m(a)\u001b[0m\n\u001b[1;32m      2\u001b[0m \u001b[0;32mdef\u001b[0m \u001b[0mf2\u001b[0m\u001b[0;34m(\u001b[0m\u001b[0ma\u001b[0m\u001b[0;34m)\u001b[0m\u001b[0;34m:\u001b[0m\u001b[0;34m\u001b[0m\u001b[0m\n\u001b[1;32m      3\u001b[0m     \u001b[0mprint\u001b[0m\u001b[0;34m(\u001b[0m\u001b[0ma\u001b[0m\u001b[0;34m)\u001b[0m\u001b[0;34m\u001b[0m\u001b[0m\n\u001b[0;32m----> 4\u001b[0;31m     \u001b[0mprint\u001b[0m\u001b[0;34m(\u001b[0m\u001b[0mb\u001b[0m\u001b[0;34m)\u001b[0m\u001b[0;34m\u001b[0m\u001b[0m\n\u001b[0m\u001b[1;32m      5\u001b[0m     \u001b[0mb\u001b[0m \u001b[0;34m=\u001b[0m \u001b[0;36m9\u001b[0m\u001b[0;34m\u001b[0m\u001b[0m\n\u001b[1;32m      6\u001b[0m \u001b[0;34m\u001b[0m\u001b[0m\n",
      "\u001b[0;31mUnboundLocalError\u001b[0m: local variable 'b' referenced before assignment"
     ]
    }
   ],
   "source": [
    "b = 6\n",
    "def f2(a):\n",
    "    print(a)\n",
    "    print(b)\n",
    "    b = 9\n",
    "    \n",
    "f2(3)"
   ]
  },
  {
   "cell_type": "markdown",
   "metadata": {},
   "source": [
    "필자님께서 위의 결과를 보고 놀라셨다 하더라. 태초에 전역변수 b가 있었고 print(b) 다음에 지역변수 b가 있으니 어찌 6이 출력되지 않는고 예외를 뿜는 말이더냐?\n",
    "\n",
    "파이썬께서 가라사대, 파이썬께서 함수를 컴파일을 하여 함수 내부의 b가 함수안에서 할당이 되니 어리숙한 중생들이 b를 전역에 아무리 삽입한다 하여도, 이는 함수가 고려하지 않는다는 말이다.\n",
    "\n",
    "함수 내부의 변수는 지역변수로 판단됨을 기억하도록 하여라."
   ]
  },
  {
   "cell_type": "code",
   "execution_count": 9,
   "metadata": {
    "collapsed": false
   },
   "outputs": [
    {
     "name": "stdout",
     "output_type": "stream",
     "text": [
      "3\n",
      "6\n"
     ]
    }
   ],
   "source": [
    "b = 6\n",
    "def f3(a):\n",
    "    global b\n",
    "    print(a)\n",
    "    print(b)\n",
    "    b = 9\n",
    "    \n",
    "f3(3)"
   ]
  },
  {
   "cell_type": "code",
   "execution_count": 10,
   "metadata": {
    "collapsed": false
   },
   "outputs": [
    {
     "data": {
      "text/plain": [
       "9"
      ]
     },
     "execution_count": 10,
     "metadata": {},
     "output_type": "execute_result"
    }
   ],
   "source": [
    "b"
   ]
  },
  {
   "cell_type": "code",
   "execution_count": 11,
   "metadata": {
    "collapsed": false
   },
   "outputs": [
    {
     "name": "stdout",
     "output_type": "stream",
     "text": [
      "3\n",
      "9\n"
     ]
    }
   ],
   "source": [
    "f3(3)"
   ]
  },
  {
   "cell_type": "markdown",
   "metadata": {},
   "source": [
    "## 7.5 클로저\n",
    "\n",
    "- 익명함수와 혼동하지 마라.\n",
    "- 실제로 클로저는 함수 본체에서 정의하지 않고 참조하는 비전역 변수를 포함한 확장 범위를 가진 함수다.\n",
    "- 함수 본체 외부에 정의된 비전역 변수에 접근할 수 있다는 것이 중요햐다.\n",
    "- 나도 쓰면서 무슨 말인지 잘 모르겠으니까 예제를 한번 보는게 어떤가?\n",
    "\n",
    "`avg()` 함수가 점차 증가하는 일련의 값의 평균을 계산한다고 가정해보자. 매일 새로운 가격이 추가되고 추가된 것을 반영하여 지금까지 모든 가격의 평균을 구하는 것이다. 이동평균"
   ]
  },
  {
   "cell_type": "code",
   "execution_count": 12,
   "metadata": {
    "collapsed": false
   },
   "outputs": [
    {
     "data": {
      "text/plain": [
       "10.0"
      ]
     },
     "execution_count": 12,
     "metadata": {},
     "output_type": "execute_result"
    }
   ],
   "source": [
    "class Averager:\n",
    "    \n",
    "    def __init__(self):\n",
    "        self.series = []\n",
    "        \n",
    "    def __call__(self, new_value):\n",
    "        self.series.append(new_value)\n",
    "        total = sum(self.series)\n",
    "        return total/len(self.series)\n",
    "    \n",
    "avg = Averager()\n",
    "avg(10)"
   ]
  },
  {
   "cell_type": "code",
   "execution_count": 13,
   "metadata": {
    "collapsed": false
   },
   "outputs": [
    {
     "data": {
      "text/plain": [
       "10.5"
      ]
     },
     "execution_count": 13,
     "metadata": {},
     "output_type": "execute_result"
    }
   ],
   "source": [
    "avg(11)"
   ]
  },
  {
   "cell_type": "code",
   "execution_count": 14,
   "metadata": {
    "collapsed": false
   },
   "outputs": [
    {
     "data": {
      "text/plain": [
       "11.0"
      ]
     },
     "execution_count": 14,
     "metadata": {},
     "output_type": "execute_result"
    }
   ],
   "source": [
    "avg(12)"
   ]
  },
  {
   "cell_type": "markdown",
   "metadata": {},
   "source": [
    "고위 함수 `make_averager()`를 이용해서 구현해보자."
   ]
  },
  {
   "cell_type": "code",
   "execution_count": 15,
   "metadata": {
    "collapsed": false
   },
   "outputs": [
    {
     "data": {
      "text/plain": [
       "10.0"
      ]
     },
     "execution_count": 15,
     "metadata": {},
     "output_type": "execute_result"
    }
   ],
   "source": [
    "def make_averager():\n",
    "    series = []\n",
    "    \n",
    "    def averager(new_value):\n",
    "        series.append(new_value)\n",
    "        total = sum(series)\n",
    "        return total/len(series)\n",
    "    \n",
    "    return averager\n",
    "\n",
    "avg = make_averager()\n",
    "avg(10)"
   ]
  },
  {
   "cell_type": "code",
   "execution_count": 16,
   "metadata": {
    "collapsed": false
   },
   "outputs": [
    {
     "data": {
      "text/plain": [
       "10.5"
      ]
     },
     "execution_count": 16,
     "metadata": {},
     "output_type": "execute_result"
    }
   ],
   "source": [
    "avg(11)"
   ]
  },
  {
   "cell_type": "code",
   "execution_count": 17,
   "metadata": {
    "collapsed": false
   },
   "outputs": [
    {
     "data": {
      "text/plain": [
       "11.0"
      ]
     },
     "execution_count": 17,
     "metadata": {},
     "output_type": "execute_result"
    }
   ],
   "source": [
    "avg(12)"
   ]
  },
  {
   "cell_type": "markdown",
   "metadata": {},
   "source": [
    "Averager 클래스의 작동방식은 알겠는데 `make_averager()`는 어떻게 되는 걸까? series라는 지역변수는 averager를 반환한 후에 사라지는 지역변수인데 어떻게 데이터를 저장하고 있는가? 여기서 series는 자유변수free variable라고 한다. 자유 변수라는 말은 지역 범위에 바인딩되어 있지 않은 변수를 의미한다.\n",
    "\n",
    "![clo](./07-1.png)"
   ]
  },
  {
   "cell_type": "code",
   "execution_count": 18,
   "metadata": {
    "collapsed": false
   },
   "outputs": [
    {
     "data": {
      "text/plain": [
       "('new_value', 'total')"
      ]
     },
     "execution_count": 18,
     "metadata": {},
     "output_type": "execute_result"
    }
   ],
   "source": [
    "avg.__code__.co_varnames"
   ]
  },
  {
   "cell_type": "code",
   "execution_count": 19,
   "metadata": {
    "collapsed": false
   },
   "outputs": [
    {
     "data": {
      "text/plain": [
       "('series',)"
      ]
     },
     "execution_count": 19,
     "metadata": {},
     "output_type": "execute_result"
    }
   ],
   "source": [
    "avg.__code__.co_freevars"
   ]
  },
  {
   "cell_type": "markdown",
   "metadata": {},
   "source": [
    "series에 대한 바인딩은 반환된 `avg()` 함수의 `__closure__` 속성에 저장된다."
   ]
  },
  {
   "cell_type": "code",
   "execution_count": 20,
   "metadata": {
    "collapsed": false
   },
   "outputs": [
    {
     "data": {
      "text/plain": [
       "(<cell at 0x104587b88: list object at 0x1044d6948>,)"
      ]
     },
     "execution_count": 20,
     "metadata": {},
     "output_type": "execute_result"
    }
   ],
   "source": [
    "avg.__closure__"
   ]
  },
  {
   "cell_type": "code",
   "execution_count": 21,
   "metadata": {
    "collapsed": false
   },
   "outputs": [
    {
     "data": {
      "text/plain": [
       "[10, 11, 12]"
      ]
     },
     "execution_count": 21,
     "metadata": {},
     "output_type": "execute_result"
    }
   ],
   "source": [
    "avg.__closure__[0].cell_contents"
   ]
  },
  {
   "cell_type": "markdown",
   "metadata": {},
   "source": [
    "클로저는 함수를 정의할 때 존재하던 자유 변수에 대한 바인딩을 유지하는 함수이다. 따라서 함수를 정의하는 범위가 사라진 후에 함수를 호출해도 자유 변수에 접근할 수 있다.\n",
    "\n",
    "## 7.6 nonlocal 선언\n",
    "\n",
    "앞에서 `구현한 make_averager()`는 그리 효율적이지 않다. 이전 합계와 항목수가 저장되어 있으면 더 효육적으로 구현할 수 있다. 아래 코드를 보자. 잘못된 코드다. 찾아봐라"
   ]
  },
  {
   "cell_type": "code",
   "execution_count": 22,
   "metadata": {
    "collapsed": true
   },
   "outputs": [],
   "source": [
    "def make_averager():\n",
    "    count = 0\n",
    "    total = 0\n",
    "    \n",
    "    def averager(new_value):\n",
    "        count += 1\n",
    "        total += new_value\n",
    "        return total / count\n",
    "    \n",
    "    return averager"
   ]
  },
  {
   "cell_type": "code",
   "execution_count": 23,
   "metadata": {
    "collapsed": false
   },
   "outputs": [
    {
     "ename": "UnboundLocalError",
     "evalue": "local variable 'count' referenced before assignment",
     "output_type": "error",
     "traceback": [
      "\u001b[0;31m---------------------------------------------------------------------------\u001b[0m",
      "\u001b[0;31mUnboundLocalError\u001b[0m                         Traceback (most recent call last)",
      "\u001b[0;32m<ipython-input-23-4fe265be513b>\u001b[0m in \u001b[0;36m<module>\u001b[0;34m()\u001b[0m\n\u001b[1;32m      1\u001b[0m \u001b[0mavg\u001b[0m \u001b[0;34m=\u001b[0m \u001b[0mmake_averager\u001b[0m\u001b[0;34m(\u001b[0m\u001b[0;34m)\u001b[0m\u001b[0;34m\u001b[0m\u001b[0m\n\u001b[0;32m----> 2\u001b[0;31m \u001b[0mavg\u001b[0m\u001b[0;34m(\u001b[0m\u001b[0;36m10\u001b[0m\u001b[0;34m)\u001b[0m\u001b[0;34m\u001b[0m\u001b[0m\n\u001b[0m",
      "\u001b[0;32m<ipython-input-22-fe9bdbf03cae>\u001b[0m in \u001b[0;36maverager\u001b[0;34m(new_value)\u001b[0m\n\u001b[1;32m      4\u001b[0m \u001b[0;34m\u001b[0m\u001b[0m\n\u001b[1;32m      5\u001b[0m     \u001b[0;32mdef\u001b[0m \u001b[0maverager\u001b[0m\u001b[0;34m(\u001b[0m\u001b[0mnew_value\u001b[0m\u001b[0;34m)\u001b[0m\u001b[0;34m:\u001b[0m\u001b[0;34m\u001b[0m\u001b[0m\n\u001b[0;32m----> 6\u001b[0;31m         \u001b[0mcount\u001b[0m \u001b[0;34m+=\u001b[0m \u001b[0;36m1\u001b[0m\u001b[0;34m\u001b[0m\u001b[0m\n\u001b[0m\u001b[1;32m      7\u001b[0m         \u001b[0mtotal\u001b[0m \u001b[0;34m+=\u001b[0m \u001b[0mnew_value\u001b[0m\u001b[0;34m\u001b[0m\u001b[0m\n\u001b[1;32m      8\u001b[0m         \u001b[0;32mreturn\u001b[0m \u001b[0mtotal\u001b[0m \u001b[0;34m/\u001b[0m \u001b[0mcount\u001b[0m\u001b[0;34m\u001b[0m\u001b[0m\n",
      "\u001b[0;31mUnboundLocalError\u001b[0m: local variable 'count' referenced before assignment"
     ]
    }
   ],
   "source": [
    "avg = make_averager()\n",
    "avg(10)"
   ]
  },
  {
   "cell_type": "markdown",
   "metadata": {},
   "source": [
    "왜 위와 같은 문제가 생겼지? hint. 가변형과 불변형 변수, 지역변수\n",
    "\n",
    "어찌됐든 위와 같은 문제를 해결하기 위해 파이썬3에서 nonlocal 선언이 소개되었다. 변수를 nonlocal로 선언하면 함수 안에서 변수에 새로운 값을 할당해도 그 변수는 자유 변수임을 나타낸다."
   ]
  },
  {
   "cell_type": "code",
   "execution_count": 24,
   "metadata": {
    "collapsed": false
   },
   "outputs": [
    {
     "data": {
      "text/plain": [
       "10.0"
      ]
     },
     "execution_count": 24,
     "metadata": {},
     "output_type": "execute_result"
    }
   ],
   "source": [
    "def make_averager():\n",
    "    count = 0\n",
    "    total = 0\n",
    "    \n",
    "    def averager(new_value):\n",
    "        nonlocal count, total\n",
    "        count += 1\n",
    "        total += new_value\n",
    "        return total / count\n",
    "    \n",
    "    return averager\n",
    "\n",
    "avg = make_averager()\n",
    "avg(10)"
   ]
  },
  {
   "cell_type": "code",
   "execution_count": 25,
   "metadata": {
    "collapsed": false
   },
   "outputs": [
    {
     "data": {
      "text/plain": [
       "10.5"
      ]
     },
     "execution_count": 25,
     "metadata": {},
     "output_type": "execute_result"
    }
   ],
   "source": [
    "avg(11)"
   ]
  },
  {
   "cell_type": "code",
   "execution_count": 26,
   "metadata": {
    "collapsed": false
   },
   "outputs": [
    {
     "data": {
      "text/plain": [
       "11.0"
      ]
     },
     "execution_count": 26,
     "metadata": {},
     "output_type": "execute_result"
    }
   ],
   "source": [
    "avg(12)"
   ]
  },
  {
   "cell_type": "markdown",
   "metadata": {},
   "source": [
    "## 7.7 간단한 데커레이터 구현하기\n",
    "\n",
    "다음 예제는 데커레이트된 함수를 호출할 때마다 시간을 측정해서 실행에 소요된 시간, 전달된 인수, 반환값을 출력하는 데커레이터다."
   ]
  },
  {
   "cell_type": "code",
   "execution_count": 27,
   "metadata": {
    "collapsed": true
   },
   "outputs": [],
   "source": [
    "import time\n",
    "\n",
    "def clock(func):\n",
    "    def clocked(*args):\n",
    "        t0 = time.perf_counter()\n",
    "        result = func(*args)\n",
    "        elapsed = time.perf_counter() - t0\n",
    "        name = func.__name__\n",
    "        arg_str = ', '.join(repr(arg) for arg in args)\n",
    "        print('[%0.8fs] %s(%s) -> %r' % (elapsed, name, arg_str, result))\n",
    "        return result\n",
    "    return clocked"
   ]
  },
  {
   "cell_type": "code",
   "execution_count": 28,
   "metadata": {
    "collapsed": false
   },
   "outputs": [
    {
     "name": "stdout",
     "output_type": "stream",
     "text": [
      "**************************************** Calling snooze(.123)\n",
      "[0.12805914s] snooze(0.123) -> None\n",
      "**************************************** Calling factorial(20)\n",
      "[0.00000226s] factorial(1) -> 1\n",
      "[0.00001924s] factorial(2) -> 2\n",
      "[0.00003021s] factorial(3) -> 6\n",
      "[0.00004074s] factorial(4) -> 24\n",
      "[0.00005767s] factorial(5) -> 120\n",
      "[0.00006614s] factorial(6) -> 720\n",
      "[0.00007997s] factorial(7) -> 5040\n",
      "[0.00009374s] factorial(8) -> 40320\n",
      "[0.00010846s] factorial(9) -> 362880\n",
      "[0.00012216s] factorial(10) -> 3628800\n",
      "[0.00013654s] factorial(11) -> 39916800\n",
      "[0.00015120s] factorial(12) -> 479001600\n",
      "[0.00016597s] factorial(13) -> 6227020800\n",
      "[0.00018046s] factorial(14) -> 87178291200\n",
      "[0.00019416s] factorial(15) -> 1307674368000\n",
      "[0.00020756s] factorial(16) -> 20922789888000\n",
      "[0.00022339s] factorial(17) -> 355687428096000\n",
      "[0.00023871s] factorial(18) -> 6402373705728000\n",
      "[0.00024978s] factorial(19) -> 121645100408832000\n",
      "[0.00026076s] factorial(20) -> 2432902008176640000\n",
      "20! = 2432902008176640000\n"
     ]
    }
   ],
   "source": [
    "@clock\n",
    "def snooze(seconds):\n",
    "    time.sleep(seconds)\n",
    "    \n",
    "@clock\n",
    "def factorial(n):\n",
    "    return 1 if n < 2 else n*factorial(n-1)\n",
    "\n",
    "if __name__ == '__main__':\n",
    "    print('*' * 40, 'Calling snooze(.123)')\n",
    "    snooze(.123)\n",
    "    print('*' * 40, 'Calling factorial(20)')\n",
    "    print('20! =', factorial(20))"
   ]
  },
  {
   "cell_type": "markdown",
   "metadata": {},
   "source": [
    "어떻게 동작하는 것인가??\n",
    "\n",
    "clock()은 factorial()함수를 func 인수로 받는다. 그 후에 clocked() 함수를 만들어서 반환하는데, 파이썬 인터프리터가 내부적으로 clocked()를 factorial에 할당했다. "
   ]
  },
  {
   "cell_type": "code",
   "execution_count": 29,
   "metadata": {
    "collapsed": false
   },
   "outputs": [
    {
     "data": {
      "text/plain": [
       "'clocked'"
      ]
     },
     "execution_count": 29,
     "metadata": {},
     "output_type": "execute_result"
    }
   ],
   "source": [
    "factorial.__name__"
   ]
  },
  {
   "cell_type": "markdown",
   "metadata": {},
   "source": [
    "그러므로 factorial은 실제로 clocked() 함수를 참조한다. 이제부터 factorial(n)을 호출하면 clocked(n)이 실행된다. 본질적으로 clocked() 함수는 다음과 같은 연산을 수행한다.\n",
    "\n",
    "1. 초기 시각 t0을 기록한다.\n",
    "2. 원래의 factorial() 함수를 호출하고 결과를 저장한다.\n",
    "3. 흘러간 시간을 계산한다.\n",
    "4. 수집한 데이터를 포맷하고 출력한다.\n",
    "5. 2번째 단계에서 저장한 결과를 반환한다.\n",
    "\n",
    "위의 예제는 키워드 인수를 지원하지 않고, 데커레이트된 함수의 `__name__`과 `__doc__` 속성을 가린다.\n",
    "\n",
    "## 7.8 표준 라이브러리에서 제공하는 데커레이터\n",
    "\n",
    "파이썬에서는 메서드를 데커레이트하기 위해 property(), classmethod(), staticmethod() 등 총 3개의 내장 함수를 제공한다. 이는 나중에 설명한다.\n",
    "\n",
    "그리고 자주 볼 수 있는 데커레이터 중 functools.wraps()가 있다. 이 함수는 제대로 작동하는 데커레이터를 만들기 위한 헬퍼이다. 표준 라이브러리가 제공하는 데커레이터들 중 lru_cache()와 파이썬 3.4에 추가된 완전히 새로운 singledispatch()가 가장 흥미롭다. 이 두 데커레이터는 functools 모듈에 정의되어 있다.\n",
    "\n",
    "### 7.8.1 `functools.lru_cache()`를 이용한 memoization\n",
    "\n",
    "- 이거 쓸모가 많다. \n",
    "- 메모이제이션은 이전에 실행한 값비싼 함수의 결과를 저장함으로써 이전에 사용된 인수에 대해 다시 계산할 필요가 없게 해준다.\n",
    "- LRU는 Least Recently Used의 약자다.\n",
    "\n",
    "n번째 피보나치 수열을 생성하기 위해 아주 느리게 실행되는 재귀 함수에서 lru_cache() 데커레이터가 진가를 발휘한다."
   ]
  },
  {
   "cell_type": "code",
   "execution_count": 30,
   "metadata": {
    "collapsed": false
   },
   "outputs": [
    {
     "name": "stdout",
     "output_type": "stream",
     "text": [
      "[0.00000063s] fibonacci(0) -> 0\n",
      "[0.00000050s] fibonacci(1) -> 1\n",
      "[0.00005480s] fibonacci(2) -> 1\n",
      "[0.00000038s] fibonacci(1) -> 1\n",
      "[0.00000079s] fibonacci(0) -> 0\n",
      "[0.00000038s] fibonacci(1) -> 1\n",
      "[0.00001647s] fibonacci(2) -> 1\n",
      "[0.00003207s] fibonacci(3) -> 2\n",
      "[0.00010275s] fibonacci(4) -> 3\n",
      "[0.00000037s] fibonacci(1) -> 1\n",
      "[0.00000038s] fibonacci(0) -> 0\n",
      "[0.00000039s] fibonacci(1) -> 1\n",
      "[0.00001510s] fibonacci(2) -> 1\n",
      "[0.00003069s] fibonacci(3) -> 2\n",
      "[0.00000039s] fibonacci(0) -> 0\n",
      "[0.00000038s] fibonacci(1) -> 1\n",
      "[0.00001519s] fibonacci(2) -> 1\n",
      "[0.00000038s] fibonacci(1) -> 1\n",
      "[0.00000052s] fibonacci(0) -> 0\n",
      "[0.00000033s] fibonacci(1) -> 1\n",
      "[0.00001602s] fibonacci(2) -> 1\n",
      "[0.00003448s] fibonacci(3) -> 2\n",
      "[0.00007271s] fibonacci(4) -> 3\n",
      "[0.00011717s] fibonacci(5) -> 5\n",
      "[0.00023563s] fibonacci(6) -> 8\n",
      "8\n"
     ]
    }
   ],
   "source": [
    "@clock\n",
    "def fibonacci(n):\n",
    "    if n < 2:\n",
    "        return n\n",
    "    return fibonacci(n-2) + fibonacci(n-1)\n",
    "\n",
    "if __name__ == '__main__':\n",
    "    print(fibonacci(6))"
   ]
  },
  {
   "cell_type": "markdown",
   "metadata": {},
   "source": [
    "fibonacci(1)이 8번, fibonacci(2)가 5번 호출 되는 등 계산 낭비가 엄청나다."
   ]
  },
  {
   "cell_type": "code",
   "execution_count": 31,
   "metadata": {
    "collapsed": false
   },
   "outputs": [
    {
     "name": "stdout",
     "output_type": "stream",
     "text": [
      "[0.00000065s] fibonacci(0) -> 0\n",
      "[0.00000054s] fibonacci(1) -> 1\n",
      "[0.00005514s] fibonacci(2) -> 1\n",
      "[0.00000093s] fibonacci(3) -> 2\n",
      "[0.00007357s] fibonacci(4) -> 3\n",
      "[0.00000067s] fibonacci(5) -> 5\n",
      "[0.00009074s] fibonacci(6) -> 8\n",
      "8\n"
     ]
    }
   ],
   "source": [
    "import functools\n",
    "\n",
    "@functools.lru_cache()\n",
    "@clock\n",
    "def fibonacci(n):\n",
    "    if n < 2:\n",
    "        return n\n",
    "    return fibonacci(n-2) + fibonacci(n-1)\n",
    "\n",
    "if __name__ == '__main__':\n",
    "    print(fibonacci(6))"
   ]
  },
  {
   "cell_type": "markdown",
   "metadata": {},
   "source": [
    "lru_cache()는 두 개의 선택적 인수를 이용해서 설정할 수 있다는 점에 주의하라. lru_cache()의 전체 signature는 다음과 같다.\n",
    "\n",
    "`functools.lru_cache(maxsize=128, typed=False)`\n",
    "\n",
    "- maxsize 인수는 얼마나 많은 호출을 저장할지 결정한다. 캐시가 가득차면 가장 오래된 결과를 버리고 공간을 확보한다.\n",
    "- 최적의 성능을 내기 위해 maxsize는 2의 제곱이 되어야 한다. \n",
    "- typed 인수가 true로 설정되는 경우 인수의 자료형이 다르면 결과를 따로 저장한다.\n",
    "- 예를 들어 일반적으로 1과 1.0은 동일하다고 가정하지만 실수형 인수와 정수형 인수를 구분해야 하는 경우가 있을 것이다.\n",
    "- 어쨋든 `lru_cache()`가 결과를 저장하기 위해 딕셔너리를 사용하고, 호출할 때 사용한 위치 인수와 키워드 인수를 키로 사용하므로, 데커레이트된 함수가 받는 인수는 모두 해시 가능해야 한다.\n",
    "\n",
    "### 7.8.2 단일 디스패치를 이용한 범수 함수 Generic functions with single dispatch\n",
    "\n",
    "웹 애플리케이션을 디버깅하는 도구를 만들고 있다고 가정하자. 파이썬 객체의 자료형마다 HTML 코드를 생성하고자 한다."
   ]
  },
  {
   "cell_type": "code",
   "execution_count": null,
   "metadata": {
    "collapsed": true
   },
   "outputs": [],
   "source": [
    "import html\n",
    "\n",
    "def htmlize(obj):\n",
    "    content = html.escape(repr(obj))\n",
    "    return '<pre>{}</pre>'.format(content)"
   ]
  },
  {
   "cell_type": "markdown",
   "metadata": {},
   "source": [
    "이 코드는 모든 파이썬 자료형을 잘 처리하지만 일부 자료형에 대해 고유한 코드를 생성하도록 이 코드를 확장하려 한다.\n",
    "\n",
    "- str: 개행 문자를 `<br>\\n`으로 대체하고 `<pre>`대신 `<p>` 태그를 사용한다.\n",
    "- int: 숫자를 10진수와 16진수로 보여준다.\n",
    "- list: 각 항목을 자료형에 따라 포맷한 HTML 리스트를 출력한다.\n",
    "\n",
    "우리가 원하는 결과는 아래와 같음"
   ]
  },
  {
   "cell_type": "code",
   "execution_count": 32,
   "metadata": {
    "collapsed": false
   },
   "outputs": [],
   "source": [
    "r\"\"\"\n",
    "htmlize(): generic function example\n",
    "\n",
    "# BEGIN HTMLIZE_DEMO\n",
    "\n",
    ">>> htmlize({1, 2, 3})  # <1>\n",
    "'<pre>{1, 2, 3}</pre>'\n",
    ">>> htmlize(abs)\n",
    "'<pre>&lt;built-in function abs&gt;</pre>'\n",
    ">>> htmlize('Heimlich & Co.\\n- a game')  # <2>\n",
    "'<p>Heimlich &amp; Co.<br>\\n- a game</p>'\n",
    ">>> htmlize(42)  # <3>\n",
    "'<pre>42 (0x2a)</pre>'\n",
    ">>> print(htmlize(['alpha', 66, {3, 2, 1}]))  # <4>\n",
    "<ul>\n",
    "<li><p>alpha</p></li>\n",
    "<li><pre>66 (0x42)</pre></li>\n",
    "<li><pre>{1, 2, 3}</pre></li>\n",
    "</ul>\n",
    "\n",
    "# END HTMLIZE_DEMO\n",
    "\"\"\"\n",
    "\n",
    "# 파이썬은 메서드나 함수의 오버로딩을 지원하지 않으므로, 서로 다르게 처리하고자 하는 자료형별로 서로 다른 시그너처를 가진 htmlize()를 만들 수 없다.\n",
    "# 이때 파이썬에서는 일반적으로 htmlize()를 디스패치 함수로 변경하고, \n",
    "# 일련의 if/elif/elif 문을 이용해 htmlize_str(), htmlize_int() 등의 특화된 함수를 호출한다.\n",
    "# 이렇게 되면 코드 겁나 커지고 확장하기 어렵고.. 하여튼 별로\n",
    "# 파이썬 3.4에서 새로 소개된 functools.singledispatch() 데커레이터는 각 모듈이 전체 해결책에 기여할 수 있게 해준다.\n",
    "# 또한 여러분(날 말하는건가?)이 편집할 수 없는 클래스에 대해서도 특화된 함수를 쉽게 제공할 수 있게 해준다.\n",
    "# 일반함수를 @singledispatch로 데커레이트하면, 이 함수는 범용함수(generic function)가 된다. \n",
    "# 즉, 일련의 함수가 첫 번째 인수의 자료형에 따라 서로 다른 방식으로 연산을 수행하게 된다.\n",
    "\n",
    "from functools import singledispatch\n",
    "from collections import abc\n",
    "import numbers\n",
    "import html\n",
    "\n",
    "@singledispatch  # <1>\n",
    "def htmlize(obj):\n",
    "    content = html.escape(repr(obj))\n",
    "    return '<pre>{}</pre>'.format(content)\n",
    "\n",
    "@htmlize.register(str)  # <2>\n",
    "def _(text):            # <3>\n",
    "    content = html.escape(text).replace('\\n', '<br>\\n')\n",
    "    return '<p>{0}</p>'.format(content)\n",
    "\n",
    "@htmlize.register(numbers.Integral)  # <4>\n",
    "def _(n):\n",
    "    return '<pre>{0} (0x{0:x})</pre>'.format(n)\n",
    "\n",
    "@htmlize.register(tuple)  # <5>\n",
    "@htmlize.register(abc.MutableSequence)\n",
    "def _(seq):\n",
    "    inner = '</li>\\n<li>'.join(htmlize(item) for item in seq)\n",
    "    return '<ul>\\n<li>' + inner + '</li>\\n</ul>'"
   ]
  },
  {
   "cell_type": "code",
   "execution_count": 33,
   "metadata": {
    "collapsed": false
   },
   "outputs": [
    {
     "data": {
      "text/plain": [
       "'<pre>{1, 2, 3}</pre>'"
      ]
     },
     "execution_count": 33,
     "metadata": {},
     "output_type": "execute_result"
    }
   ],
   "source": [
    "htmlize({1, 2, 3})"
   ]
  },
  {
   "cell_type": "code",
   "execution_count": 34,
   "metadata": {
    "collapsed": false
   },
   "outputs": [
    {
     "data": {
      "text/plain": [
       "'<pre>&lt;built-in function abs&gt;</pre>'"
      ]
     },
     "execution_count": 34,
     "metadata": {},
     "output_type": "execute_result"
    }
   ],
   "source": [
    "htmlize(abs)"
   ]
  },
  {
   "cell_type": "code",
   "execution_count": 35,
   "metadata": {
    "collapsed": false
   },
   "outputs": [
    {
     "data": {
      "text/plain": [
       "'<p>Heimlich &amp; Co.<br>\\n- a game</p>'"
      ]
     },
     "execution_count": 35,
     "metadata": {},
     "output_type": "execute_result"
    }
   ],
   "source": [
    "htmlize('Heimlich & Co.\\n- a game')"
   ]
  },
  {
   "cell_type": "code",
   "execution_count": 36,
   "metadata": {
    "collapsed": false
   },
   "outputs": [
    {
     "data": {
      "text/plain": [
       "'<pre>42 (0x2a)</pre>'"
      ]
     },
     "execution_count": 36,
     "metadata": {},
     "output_type": "execute_result"
    }
   ],
   "source": [
    "htmlize(42)"
   ]
  },
  {
   "cell_type": "code",
   "execution_count": 37,
   "metadata": {
    "collapsed": false
   },
   "outputs": [
    {
     "name": "stdout",
     "output_type": "stream",
     "text": [
      "<ul>\n",
      "<li><p>alpha</p></li>\n",
      "<li><pre>66 (0x42)</pre></li>\n",
      "<li><pre>{1, 2, 3}</pre></li>\n",
      "</ul>\n"
     ]
    }
   ],
   "source": [
    "print(htmlize(['alpha', 66, {3, 2, 1}]))"
   ]
  },
  {
   "cell_type": "markdown",
   "metadata": {},
   "source": [
    "## 7.9 누적된 데커레이터\n",
    "\n",
    "데커레이터가 여러개 누적되어 사용된 경우.\n",
    "\n",
    "하나의 함수 f()에 두 테커레이터 @d1과 @d2를 차례대로 적용하면 결과는 f = d1(d2(f))와 같다.\n",
    "\n",
    "```\n",
    "@d1\n",
    "@d2\n",
    "def f():\n",
    "    print('f')\n",
    "\n",
    "\n",
    "\n",
    "def f():\n",
    "    print('f')\n",
    "    \n",
    "f = d1(d2(f))\n",
    "```\n",
    "\n",
    "\n",
    "## 7.10 매개변수화된 데커레이터\n",
    "\n",
    "- 소스코드에서 데커레이터를 파싱할 때 파이썬을 데커레이트된 함수를 가져와서 데커레이터 함수의 첫 번째 인수로 넘겨준다.\n",
    "- 그렇다면 어떻게 다른 인수를 받는 데커레이터를 만들 수 있을까?\n",
    "- 인수를 받아 데커레이터를 반환하는 데커레이터 팩토리를 만들고 나서, 데커레이트될 함수에 데커레이터 팩토리를 적용하면 된다.\n",
    "- 글을 쓰면서도 뭔말인지 모르겠다. 아까 예제로 설명을 시도해본다. 이래도 이해 안되면 당신의 두뇌를 탓해라."
   ]
  },
  {
   "cell_type": "code",
   "execution_count": 38,
   "metadata": {
    "collapsed": false
   },
   "outputs": [
    {
     "name": "stdout",
     "output_type": "stream",
     "text": [
      "running register(<function f1 at 0x1045cb378>)\n",
      "running main()\n",
      "registry -> [<function f1 at 0x1045cb378>]\n",
      "running f1()\n"
     ]
    }
   ],
   "source": [
    "registry = []\n",
    "\n",
    "def register(func):\n",
    "    print('running register(%s)' % func)\n",
    "    registry.append(func)\n",
    "    return func\n",
    "\n",
    "@register\n",
    "def f1():\n",
    "    print('running f1()')\n",
    "    \n",
    "print('running main()')\n",
    "print('registry ->', registry)\n",
    "f1()"
   ]
  },
  {
   "cell_type": "markdown",
   "metadata": {},
   "source": [
    "### 7.10.1 매개변수화된 등록 데커레이터\n",
    "\n",
    "- register()가 등록하는 함수를 활성화 또는 비활성화하기 쉽게 만들기 위해, 선택적 인수 active를 만든다.\n",
    "- active가 False면 데커레이트된 함수를 등록해제한다.\n",
    "- 새로 만든 register()함수는 개념적으로는 테커레이터가 아니라 데커레이터 팩토리다.\n",
    "- 호출되면 대상 함수에 적용한 실제 데커레이터를 반환하기 때문이다."
   ]
  },
  {
   "cell_type": "code",
   "execution_count": 39,
   "metadata": {
    "collapsed": false
   },
   "outputs": [
    {
     "name": "stdout",
     "output_type": "stream",
     "text": [
      "running register(active=False)->decorate(<function f1 at 0x104633bf8>)\n",
      "running register(active=True)->decorate(<function f2 at 0x1045a9f28>)\n"
     ]
    }
   ],
   "source": [
    "# BEGIN REGISTRATION_PARAM\n",
    "\n",
    "registry = set()  # <1>\n",
    "\n",
    "def register(active=True):  # <2>\n",
    "    def decorate(func):  # <3>\n",
    "        print('running register(active=%s)->decorate(%s)'\n",
    "              % (active, func))\n",
    "        if active:   # <4>\n",
    "            registry.add(func)\n",
    "        else:\n",
    "            registry.discard(func)  # <5>\n",
    "\n",
    "        return func  # <6>\n",
    "    return decorate  # <7>\n",
    "\n",
    "@register(active=False)  # <8>\n",
    "def f1():\n",
    "    print('running f1()')\n",
    "\n",
    "@register()  # <9>\n",
    "def f2():\n",
    "    print('running f2()')\n",
    "\n",
    "def f3():\n",
    "    print('running f3()')\n",
    "\n",
    "# END REGISTRATION_PARAM"
   ]
  },
  {
   "cell_type": "code",
   "execution_count": null,
   "metadata": {
    "collapsed": true
   },
   "outputs": [],
   "source": []
  }
 ],
 "metadata": {
  "kernelspec": {
   "display_name": "Python 3",
   "language": "python",
   "name": "python3"
  },
  "language_info": {
   "codemirror_mode": {
    "name": "ipython",
    "version": 3
   },
   "file_extension": ".py",
   "mimetype": "text/x-python",
   "name": "python",
   "nbconvert_exporter": "python",
   "pygments_lexer": "ipython3",
   "version": "3.5.1"
  }
 },
 "nbformat": 4,
 "nbformat_minor": 1
}
